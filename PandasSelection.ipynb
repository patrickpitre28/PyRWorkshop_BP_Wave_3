{
 "cells": [
  {
   "cell_type": "code",
   "execution_count": null,
   "metadata": {},
   "outputs": [],
   "source": [
    "import pandas as pd\n"
   ]
  },
  {
   "cell_type": "code",
   "execution_count": null,
   "metadata": {},
   "outputs": [],
   "source": [
    "# making data frame from csv file \n",
    "data = pd.read_csv(\"data/nba.csv\", index_col =\"Name\") \n",
    "\n",
    "# retrieving columns by indexing operator \n",
    "someCols =  data[[\"Age\", \"College\", \"Salary\", \"Position\"]] \n",
    "print(someCols) "
   ]
  },
  {
   "cell_type": "code",
   "execution_count": null,
   "metadata": {},
   "outputs": [],
   "source": [
    "# retrieving row by loc method \n",
    "rowAvery = someCols.loc[\"Avery Bradley\"] \n",
    "rowRJ = someCols.loc[\"R.J. Hunter\"] \n",
    "\n",
    "print(rowAvery, \"\\n\\n\\n\", rowRJ) \n"
   ]
  },
  {
   "cell_type": "code",
   "execution_count": null,
   "metadata": {},
   "outputs": [],
   "source": [
    "# retrieving multiple rows by loc method \n",
    "someRows = data.loc[[\"Avery Bradley\", \"R.J. Hunter\"]] \n",
    "  \n",
    "print(someRows) "
   ]
  },
  {
   "cell_type": "code",
   "execution_count": null,
   "metadata": {},
   "outputs": [],
   "source": [
    "# Reset index\n",
    "someCols.reset_index(drop=True,inplace=True)\n",
    "someCols"
   ]
  },
  {
   "cell_type": "code",
   "execution_count": null,
   "metadata": {},
   "outputs": [],
   "source": [
    "indexedData = someCols.set_index('Position')\n",
    "indexedData"
   ]
  },
  {
   "cell_type": "code",
   "execution_count": null,
   "metadata": {},
   "outputs": [],
   "source": [
    "justDuke = indexedData[indexedData.College == 'Duke']\n",
    "justDuke"
   ]
  },
  {
   "cell_type": "code",
   "execution_count": null,
   "metadata": {},
   "outputs": [],
   "source": []
  }
 ],
 "metadata": {
  "kernelspec": {
   "display_name": "Python 3",
   "language": "python",
   "name": "python3"
  },
  "language_info": {
   "codemirror_mode": {
    "name": "ipython",
    "version": 3
   },
   "file_extension": ".py",
   "mimetype": "text/x-python",
   "name": "python",
   "nbconvert_exporter": "python",
   "pygments_lexer": "ipython3",
   "version": "3.7.3"
  }
 },
 "nbformat": 4,
 "nbformat_minor": 2
}
